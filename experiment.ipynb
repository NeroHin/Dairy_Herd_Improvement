{
 "cells": [
  {
   "cell_type": "code",
   "execution_count": 1,
   "metadata": {},
   "outputs": [],
   "source": [
    "import pandas as pd\n",
    "from tqdm import tqdm\n",
    "import os, sys\n",
    "import warnings\n",
    "import sweetviz as sv\n",
    "import matplotlib.pyplot as plt\n",
    "import seaborn as sns\n",
    "\n",
    "\n",
    "warnings.filterwarnings('ignore')\n",
    "\n",
    "dataFolder = 'data/'\n",
    "dataList = [dataFolder + f for f in os.listdir(dataFolder) if f.endswith('.csv')]\n",
    "\n",
    "\n",
    "def read_csv(file: str) -> pd.DataFrame:\n",
    "    return pd.read_csv(file)\n",
    "\n",
    "def pre_processing(df:pd.DataFrame, drop_col:list=None, one_hot_col:list=None, date_col:list=None, convert_col:list=None) -> pd.DataFrame:\n",
    "    \n",
    "    # drop id column\n",
    "    if drop_col is not None:\n",
    "        for col in drop_col:\n",
    "            df = df.drop(col, axis=1)\n",
    "            \n",
    "    # one-hot encoding \n",
    "    if one_hot_col is not None:\n",
    "        for col in one_hot_col:\n",
    "            df[col] = df[col].astype('category').cat.codes\n",
    "    \n",
    "    # date convert\n",
    "    if date_col is not None:\n",
    "        for date in date_col:\n",
    "            df[date] = pd.to_datetime(df[date])\n",
    "            \n",
    "    if convert_col is not None:\n",
    "        for col in convert_col:\n",
    "            df[col] = df[col].astype('float')\n",
    "            \n",
    "    return df\n",
    "\n",
    "def get_df_name(df):\n",
    "    name =[x for x in globals() if globals()[x] is df][0]\n",
    "    return name"
   ]
  },
  {
   "cell_type": "markdown",
   "metadata": {},
   "source": [
    "## 匯入資料"
   ]
  },
  {
   "cell_type": "code",
   "execution_count": 2,
   "metadata": {},
   "outputs": [],
   "source": [
    "reportDf = read_csv(dataList[0])\n",
    "birthDf = read_csv(dataList[1])\n",
    "submissionDf = read_csv(dataList[2])\n",
    "breedDf = read_csv(dataList[3])\n",
    "specDf = read_csv(dataList[4])\n"
   ]
  },
  {
   "cell_type": "markdown",
   "metadata": {},
   "source": [
    "## 分析資料中的缺失值，再決定要不要刪除 / 補值 "
   ]
  },
  {
   "cell_type": "markdown",
   "metadata": {},
   "source": [
    "### 缺失值計算"
   ]
  },
  {
   "cell_type": "code",
   "execution_count": null,
   "metadata": {},
   "outputs": [],
   "source": [
    "for df in [reportDf, birthDf, submissionDf, breedDf, specDf]:\n",
    "    print(get_df_name(df))\n",
    "    print(df.shape)\n",
    "    # 算出每個欄位的缺失值比例\n",
    "    print(f\"{df.isnull().sum() / len(df) * 100}\\n\")"
   ]
  },
  {
   "cell_type": "markdown",
   "metadata": {},
   "source": [
    "### 資料分佈"
   ]
  },
  {
   "cell_type": "code",
   "execution_count": null,
   "metadata": {},
   "outputs": [],
   "source": [
    "reportDf.hist(figsize=(15, 15), bins=50, xlabelsize=12, ylabelsize=12)"
   ]
  },
  {
   "cell_type": "code",
   "execution_count": null,
   "metadata": {},
   "outputs": [],
   "source": [
    "birthDf.hist(figsize=(15, 15), bins=50, xlabelsize=12, ylabelsize=12)"
   ]
  },
  {
   "cell_type": "code",
   "execution_count": null,
   "metadata": {},
   "outputs": [],
   "source": [
    "breedDf.hist(figsize=(15, 15), bins=50, xlabelsize=12, ylabelsize=12)"
   ]
  },
  {
   "cell_type": "code",
   "execution_count": null,
   "metadata": {},
   "outputs": [],
   "source": [
    "specDf.hist(figsize=(15, 15), bins=50, xlabelsize=12, ylabelsize=12)"
   ]
  },
  {
   "cell_type": "markdown",
   "metadata": {},
   "source": [
    "### 目前 dataset 和 preidct target 的相關性"
   ]
  },
  {
   "cell_type": "code",
   "execution_count": null,
   "metadata": {},
   "outputs": [],
   "source": [
    "#使用seaborn的 heatmap 來看相關性\n",
    "plt.figure(figsize=(10, 8))\n",
    "sns.heatmap(reportDf.corr(), annot=True)"
   ]
  },
  {
   "cell_type": "code",
   "execution_count": null,
   "metadata": {},
   "outputs": [],
   "source": [
    "reportDf.columns"
   ]
  },
  {
   "cell_type": "markdown",
   "metadata": {},
   "source": [
    "## 資料前處理"
   ]
  },
  {
   "cell_type": "markdown",
   "metadata": {},
   "source": [
    "* 我們從上面的分析得知，有些資料是有缺失值的，還有一些欄位是沒有意義的，所以我們要先處理這些資料"
   ]
  },
  {
   "cell_type": "markdown",
   "metadata": {},
   "source": [
    "### 刪除缺失值的欄位"
   ]
  },
  {
   "cell_type": "markdown",
   "metadata": {},
   "source": [
    "```\n",
    "    * reportDf -> lastDateOfChildbirth, id, dateOfTest\n",
    "    * birthDf -> 'secondNumOfCalf', 'countOfwomb', 'dateOfLogin', 'firstNumOfCalf', 'sizeOfCalf', 'genderOfCalf'\n",
    "    * breedDf -> 'dateOfLogin', 'pregnancyTest', 'typeOfSemen'\n",
    "    * specDf -> 'dateOfLogin', 'comment'\n",
    "```"
   ]
  },
  {
   "cell_type": "markdown",
   "metadata": {},
   "source": [
    "### 補值"
   ]
  },
  {
   "cell_type": "markdown",
   "metadata": {},
   "source": [
    "* 發現目標 milkVolume 有一部分的資料是 0, 因為是重要的資料，所以我們要先處理這些資料"
   ]
  },
  {
   "cell_type": "code",
   "execution_count": null,
   "metadata": {},
   "outputs": [],
   "source": [
    "reportDf['milkVolume'].plot(kind='hist', bins=50, figsize=(10, 8), title='milkVolume')"
   ]
  },
  {
   "cell_type": "markdown",
   "metadata": {},
   "source": [
    "#### plot 出每個牧場的 milkVolume 情況"
   ]
  },
  {
   "cell_type": "code",
   "execution_count": null,
   "metadata": {},
   "outputs": [],
   "source": [
    "reportDf.groupby(['dairyFarm', 'year'])['milkVolume'].mean().plot(kind='bar', figsize=(10, 8), \\\n",
    "    title='Mean milkVolume with different dairyFarm and year')"
   ]
  },
  {
   "cell_type": "code",
   "execution_count": null,
   "metadata": {},
   "outputs": [],
   "source": [
    "reportDf.groupby(['dairyFarm', 'month'])['milkVolume'].mean().plot(kind='bar', figsize=(10, 8), title='Mean milkVolume with different dairyFarm and month')"
   ]
  },
  {
   "cell_type": "markdown",
   "metadata": {},
   "source": [
    "#### One-Hot Encoding map"
   ]
  },
  {
   "cell_type": "markdown",
   "metadata": {},
   "source": [
    "```\n",
    "\n",
    "preReportDf\n",
    "\n",
    "- dairyFarm {A: 0, B: 1, C: 2}\n",
    "\n",
    "---\n",
    "\n",
    "preBirthDf\n",
    "\n",
    "- genderOfCalf {公：1，母：2, 未知：0}\n",
    "- dairyFarm {A: 0 , B: 1, C: 2}\n",
    "- sizeOfCalf {S：3, M：2, L：1, 未知： 0}\n",
    "\n",
    "---\n",
    "\n",
    "preSpecDf\n",
    "\n",
    "- typeOfSituation { C:2, D:3, N:4 ,1:0, 2:1}\n",
    "- dairyFarm {A: 0 , B: 1, C: 2}\n",
    "\n",
    "---\n",
    "\n",
    "preBreedDf\n",
    "\n",
    "- dairyFarm {A: 0 , B: 1, C: 2}\n",
    "\n",
    "```\n"
   ]
  },
  {
   "cell_type": "markdown",
   "metadata": {},
   "source": [
    "#### Preprocessing main"
   ]
  },
  {
   "cell_type": "code",
   "execution_count": 8,
   "metadata": {},
   "outputs": [
    {
     "data": {
      "text/plain": [
       "外購            1680\n",
       "進口             291\n",
       "96174165.0     137\n",
       "95040473       136\n",
       "97171306.0     111\n",
       "              ... \n",
       "99171874.0       1\n",
       "2111030          1\n",
       "116612           1\n",
       "96112221         1\n",
       "98040671         1\n",
       "Name: numOfCowMotherSemen, Length: 1152, dtype: int64"
      ]
     },
     "execution_count": 8,
     "metadata": {},
     "output_type": "execute_result"
    }
   ],
   "source": [
    "reportDf.numOfCowMotherSemen.value_counts()"
   ]
  },
  {
   "cell_type": "code",
   "execution_count": 9,
   "metadata": {},
   "outputs": [
    {
     "name": "stderr",
     "output_type": "stream",
     "text": [
      "100%|██████████| 4/4 [00:00<00:00, 3690.54it/s]"
     ]
    },
    {
     "name": "stdout",
     "output_type": "stream",
     "text": [
      "The size of preReportDf : (33254, 18)\n",
      "The size of preBirthDf : (3761, 6)\n",
      "The size of preSpecDf : (4362, 5)\n",
      "The size of preBreedDf : (21050, 5)\n"
     ]
    },
    {
     "name": "stderr",
     "output_type": "stream",
     "text": [
      "\n"
     ]
    }
   ],
   "source": [
    "# drop year column == 2019，因為沒有資料\n",
    "reportDf = reportDf[reportDf['year'] != 2019]\n",
    "preReportDf = pre_processing(df=reportDf, drop_col=['id', 'dateOfTest', 'lastDateOfChildbirth'], one_hot_col=['dairyFarm', 'numOfCowFatherSemen','semenOfLastBreeding', 'numOfCowMotherSemen', 'semenOfFirstBreeding' ], \\\n",
    "    date_col=['birthday', 'lastDateOfBirth', 'dayOfSampling', 'lastDateOfBreeding', 'firstDateOfBreeding'],\\\n",
    "    convert_col=['numOfCowFatherSemen', 'numOfCowMotherSemen'])  \n",
    "    \n",
    "preBirthDf = pre_processing(df=birthDf, drop_col=['secondNumOfCalf', 'countOfwomb', 'dateOfLogin', 'firstNumOfCalf', 'sizeOfCalf', 'genderOfCalf', 'dateOfDryMilk'], one_hot_col=['dairyFarm'], \\\n",
    "    date_col=['dateOfChildbirth'])\n",
    "\n",
    "# 因為 data 裡有相同、但大小寫不同的欄位，所以先轉成大寫\n",
    "specDf['typeOfSituation'] = specDf['typeOfSituation'].str.upper()\n",
    "preSpecDf = pre_processing(df=specDf, drop_col=['dateOfLogin', 'comment'], one_hot_col=['dairyFarm', 'typeOfSituation', 'codeOfSituation'])\n",
    "\n",
    "preBreedDf = pre_processing(df=breedDf, drop_col=['dateOfLogin', 'pregnancyTest', 'typeOfSemen'], one_hot_col=['dairyFarm','semenOfBreeding'],\\\n",
    "    date_col=['dateOfBreeding'])\n",
    "\n",
    "for df in tqdm([preReportDf, preBirthDf, preSpecDf, preBreedDf]):\n",
    "    print(f\"The size of {get_df_name(df)} : {df.shape}\")"
   ]
  },
  {
   "cell_type": "markdown",
   "metadata": {},
   "source": [
    "### 針對 report 資料集使用 sweetviz 進行 EDA"
   ]
  },
  {
   "cell_type": "code",
   "execution_count": 10,
   "metadata": {},
   "outputs": [
    {
     "name": "stderr",
     "output_type": "stream",
     "text": [
      "Done! Use 'show' commands to display/save.   |██████████| [100%]   00:00 -> (00:00 left)\n"
     ]
    },
    {
     "name": "stdout",
     "output_type": "stream",
     "text": [
      "Report reportDf_sv_report.html was generated! NOTEBOOK/COLAB USERS: the web browser MAY not pop up, regardless, the report IS saved in your notebook/colab files.\n"
     ]
    }
   ],
   "source": [
    "# 在沒有處理的情況下來自自資料的分析報告\n",
    "reportDf_sv_report = sv.analyze(preReportDf, target_feat='milkVolume')\n",
    "reportDf_sv_report.show_html('reportDf_sv_report.html')"
   ]
  },
  {
   "cell_type": "code",
   "execution_count": null,
   "metadata": {},
   "outputs": [],
   "source": []
  }
 ],
 "metadata": {
  "kernelspec": {
   "display_name": "Python 3.8.12 ('api_server')",
   "language": "python",
   "name": "python3"
  },
  "language_info": {
   "codemirror_mode": {
    "name": "ipython",
    "version": 3
   },
   "file_extension": ".py",
   "mimetype": "text/x-python",
   "name": "python",
   "nbconvert_exporter": "python",
   "pygments_lexer": "ipython3",
   "version": "3.8.12"
  },
  "orig_nbformat": 4,
  "vscode": {
   "interpreter": {
    "hash": "8ba975e9754e85fb30fc4fec1d82e9cb6c3031376e8f82bbcac6e0a1936ff599"
   }
  }
 },
 "nbformat": 4,
 "nbformat_minor": 2
}
