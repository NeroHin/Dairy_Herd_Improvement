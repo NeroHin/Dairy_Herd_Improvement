{
 "cells": [
  {
   "cell_type": "code",
   "execution_count": 17,
   "metadata": {},
   "outputs": [],
   "source": [
    "import pandas as pd\n",
    "from tqdm import tqdm\n",
    "import os, sys\n",
    "\n",
    "dataFolder = 'data/'\n",
    "dataList = [dataFolder + f for f in os.listdir(dataFolder) if f.endswith('.csv')]"
   ]
  },
  {
   "cell_type": "code",
   "execution_count": 19,
   "metadata": {},
   "outputs": [
    {
     "data": {
      "text/plain": [
       "['data/report.csv',\n",
       " 'data/birth.csv',\n",
       " 'data/submission.csv',\n",
       " 'data/breed.csv',\n",
       " 'data/spec.csv']"
      ]
     },
     "execution_count": 19,
     "metadata": {},
     "output_type": "execute_result"
    }
   ],
   "source": [
    "dataList"
   ]
  },
  {
   "cell_type": "markdown",
   "metadata": {},
   "source": [
    "### functions"
   ]
  },
  {
   "cell_type": "code",
   "execution_count": 18,
   "metadata": {},
   "outputs": [],
   "source": [
    "def read_csv(file: str) -> pd.DataFrame:\n",
    "    return pd.read_csv(file)"
   ]
  },
  {
   "cell_type": "markdown",
   "metadata": {},
   "source": [
    "#### Pre-processing\n",
    "\n",
    "* read file and rename\n",
    "* EDA with sweetviz or piperider\n",
    "* check for \n",
    "* missing values and outliers\n"
   ]
  },
  {
   "cell_type": "markdown",
   "metadata": {},
   "source": [
    "#### read file and rename"
   ]
  },
  {
   "cell_type": "code",
   "execution_count": 21,
   "metadata": {},
   "outputs": [
    {
     "name": "stderr",
     "output_type": "stream",
     "text": [
      "/var/folders/s6/ryn923fn0b5f_k98rws_2fvm0000gn/T/ipykernel_88579/551868768.py:1: DtypeWarning: Columns (6) have mixed types.Specify dtype option on import or set low_memory=False.\n",
      "  reportDf = read_csv(dataList[0])\n"
     ]
    }
   ],
   "source": [
    "reportDf = read_csv(dataList[0])"
   ]
  },
  {
   "cell_type": "code",
   "execution_count": 24,
   "metadata": {},
   "outputs": [
    {
     "data": {
      "text/html": [
       "<div>\n",
       "<style scoped>\n",
       "    .dataframe tbody tr th:only-of-type {\n",
       "        vertical-align: middle;\n",
       "    }\n",
       "\n",
       "    .dataframe tbody tr th {\n",
       "        vertical-align: top;\n",
       "    }\n",
       "\n",
       "    .dataframe thead th {\n",
       "        text-align: right;\n",
       "    }\n",
       "</style>\n",
       "<table border=\"1\" class=\"dataframe\">\n",
       "  <thead>\n",
       "    <tr style=\"text-align: right;\">\n",
       "      <th></th>\n",
       "      <th>1</th>\n",
       "      <th>2</th>\n",
       "      <th>3</th>\n",
       "      <th>4</th>\n",
       "      <th>5</th>\n",
       "      <th>6</th>\n",
       "      <th>7</th>\n",
       "      <th>8</th>\n",
       "      <th>9</th>\n",
       "      <th>10</th>\n",
       "      <th>...</th>\n",
       "      <th>12</th>\n",
       "      <th>13</th>\n",
       "      <th>14</th>\n",
       "      <th>15</th>\n",
       "      <th>16</th>\n",
       "      <th>17</th>\n",
       "      <th>18</th>\n",
       "      <th>19</th>\n",
       "      <th>20</th>\n",
       "      <th>21</th>\n",
       "    </tr>\n",
       "  </thead>\n",
       "  <tbody>\n",
       "    <tr>\n",
       "      <th>0</th>\n",
       "      <td>1</td>\n",
       "      <td>2013</td>\n",
       "      <td>3</td>\n",
       "      <td>A</td>\n",
       "      <td>52612</td>\n",
       "      <td>507H7173</td>\n",
       "      <td>96040545</td>\n",
       "      <td>2011/1/1 00:00</td>\n",
       "      <td>1</td>\n",
       "      <td>78.0</td>\n",
       "      <td>...</td>\n",
       "      <td>2013/1/1 00:00</td>\n",
       "      <td>2013/3/20 00:00</td>\n",
       "      <td>26</td>\n",
       "      <td>2013/3/21 00:00</td>\n",
       "      <td>2015/5/5 00:00</td>\n",
       "      <td>507H11621</td>\n",
       "      <td>1</td>\n",
       "      <td>NaN</td>\n",
       "      <td>2013/3/5 00:00</td>\n",
       "      <td>501H8784</td>\n",
       "    </tr>\n",
       "    <tr>\n",
       "      <th>1</th>\n",
       "      <td>2</td>\n",
       "      <td>2013</td>\n",
       "      <td>4</td>\n",
       "      <td>A</td>\n",
       "      <td>52612</td>\n",
       "      <td>507H7173</td>\n",
       "      <td>96040545</td>\n",
       "      <td>2011/1/1 00:00</td>\n",
       "      <td>1</td>\n",
       "      <td>107.0</td>\n",
       "      <td>...</td>\n",
       "      <td>2013/1/1 00:00</td>\n",
       "      <td>2013/4/18 00:00</td>\n",
       "      <td>27</td>\n",
       "      <td>2013/4/19 00:00</td>\n",
       "      <td>2015/5/5 00:00</td>\n",
       "      <td>507H11621</td>\n",
       "      <td>1</td>\n",
       "      <td>NaN</td>\n",
       "      <td>2013/3/5 00:00</td>\n",
       "      <td>501H8784</td>\n",
       "    </tr>\n",
       "    <tr>\n",
       "      <th>2</th>\n",
       "      <td>3</td>\n",
       "      <td>2013</td>\n",
       "      <td>5</td>\n",
       "      <td>A</td>\n",
       "      <td>52612</td>\n",
       "      <td>507H7173</td>\n",
       "      <td>96040545</td>\n",
       "      <td>2011/1/1 00:00</td>\n",
       "      <td>1</td>\n",
       "      <td>140.0</td>\n",
       "      <td>...</td>\n",
       "      <td>2013/1/1 00:00</td>\n",
       "      <td>2013/5/21 00:00</td>\n",
       "      <td>28</td>\n",
       "      <td>2013/5/22 00:00</td>\n",
       "      <td>2015/5/5 00:00</td>\n",
       "      <td>507H11621</td>\n",
       "      <td>2</td>\n",
       "      <td>NaN</td>\n",
       "      <td>2013/3/5 00:00</td>\n",
       "      <td>501H8784</td>\n",
       "    </tr>\n",
       "    <tr>\n",
       "      <th>3</th>\n",
       "      <td>4</td>\n",
       "      <td>2013</td>\n",
       "      <td>6</td>\n",
       "      <td>A</td>\n",
       "      <td>52612</td>\n",
       "      <td>507H7173</td>\n",
       "      <td>96040545</td>\n",
       "      <td>2011/1/1 00:00</td>\n",
       "      <td>1</td>\n",
       "      <td>175.0</td>\n",
       "      <td>...</td>\n",
       "      <td>2013/1/1 00:00</td>\n",
       "      <td>2013/6/25 00:00</td>\n",
       "      <td>29</td>\n",
       "      <td>2013/6/26 00:00</td>\n",
       "      <td>2015/5/5 00:00</td>\n",
       "      <td>507H11621</td>\n",
       "      <td>2</td>\n",
       "      <td>NaN</td>\n",
       "      <td>2013/3/5 00:00</td>\n",
       "      <td>501H8784</td>\n",
       "    </tr>\n",
       "    <tr>\n",
       "      <th>4</th>\n",
       "      <td>5</td>\n",
       "      <td>2013</td>\n",
       "      <td>7</td>\n",
       "      <td>A</td>\n",
       "      <td>52612</td>\n",
       "      <td>507H7173</td>\n",
       "      <td>96040545</td>\n",
       "      <td>2011/1/1 00:00</td>\n",
       "      <td>1</td>\n",
       "      <td>210.0</td>\n",
       "      <td>...</td>\n",
       "      <td>2013/1/1 00:00</td>\n",
       "      <td>2013/7/30 00:00</td>\n",
       "      <td>30</td>\n",
       "      <td>2013/7/31 00:00</td>\n",
       "      <td>2015/5/5 00:00</td>\n",
       "      <td>507H11621</td>\n",
       "      <td>2</td>\n",
       "      <td>NaN</td>\n",
       "      <td>2013/3/5 00:00</td>\n",
       "      <td>501H8784</td>\n",
       "    </tr>\n",
       "  </tbody>\n",
       "</table>\n",
       "<p>5 rows × 21 columns</p>\n",
       "</div>"
      ],
      "text/plain": [
       "   1     2  3  4      5         6         7               8  9     10  ...  \\\n",
       "0  1  2013  3  A  52612  507H7173  96040545  2011/1/1 00:00  1   78.0  ...   \n",
       "1  2  2013  4  A  52612  507H7173  96040545  2011/1/1 00:00  1  107.0  ...   \n",
       "2  3  2013  5  A  52612  507H7173  96040545  2011/1/1 00:00  1  140.0  ...   \n",
       "3  4  2013  6  A  52612  507H7173  96040545  2011/1/1 00:00  1  175.0  ...   \n",
       "4  5  2013  7  A  52612  507H7173  96040545  2011/1/1 00:00  1  210.0  ...   \n",
       "\n",
       "               12               13  14               15              16  \\\n",
       "0  2013/1/1 00:00  2013/3/20 00:00  26  2013/3/21 00:00  2015/5/5 00:00   \n",
       "1  2013/1/1 00:00  2013/4/18 00:00  27  2013/4/19 00:00  2015/5/5 00:00   \n",
       "2  2013/1/1 00:00  2013/5/21 00:00  28  2013/5/22 00:00  2015/5/5 00:00   \n",
       "3  2013/1/1 00:00  2013/6/25 00:00  29  2013/6/26 00:00  2015/5/5 00:00   \n",
       "4  2013/1/1 00:00  2013/7/30 00:00  30  2013/7/31 00:00  2015/5/5 00:00   \n",
       "\n",
       "          17 18   19              20        21  \n",
       "0  507H11621  1  NaN  2013/3/5 00:00  501H8784  \n",
       "1  507H11621  1  NaN  2013/3/5 00:00  501H8784  \n",
       "2  507H11621  2  NaN  2013/3/5 00:00  501H8784  \n",
       "3  507H11621  2  NaN  2013/3/5 00:00  501H8784  \n",
       "4  507H11621  2  NaN  2013/3/5 00:00  501H8784  \n",
       "\n",
       "[5 rows x 21 columns]"
      ]
     },
     "execution_count": 24,
     "metadata": {},
     "output_type": "execute_result"
    }
   ],
   "source": [
    "reportDf.head()"
   ]
  },
  {
   "cell_type": "code",
   "execution_count": null,
   "metadata": {},
   "outputs": [],
   "source": [
    "\n",
    "birthDf = read_csv(dataList[1])\n",
    "submissionDf = read_csv(dataList[2])\n",
    "breakDf = read_csv(dataList[3])\n",
    "specDf = read_csv(dataList[4])"
   ]
  },
  {
   "cell_type": "code",
   "execution_count": null,
   "metadata": {},
   "outputs": [],
   "source": []
  }
 ],
 "metadata": {
  "kernelspec": {
   "display_name": "Python 3.8.12 ('api_server')",
   "language": "python",
   "name": "python3"
  },
  "language_info": {
   "codemirror_mode": {
    "name": "ipython",
    "version": 3
   },
   "file_extension": ".py",
   "mimetype": "text/x-python",
   "name": "python",
   "nbconvert_exporter": "python",
   "pygments_lexer": "ipython3",
   "version": "3.8.12"
  },
  "orig_nbformat": 4,
  "vscode": {
   "interpreter": {
    "hash": "8ba975e9754e85fb30fc4fec1d82e9cb6c3031376e8f82bbcac6e0a1936ff599"
   }
  }
 },
 "nbformat": 4,
 "nbformat_minor": 2
}
